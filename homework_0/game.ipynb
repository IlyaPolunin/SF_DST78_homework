{
 "cells": [
  {
   "cell_type": "markdown",
   "source": [
    "# Игра угадай число"
   ],
   "metadata": {}
  },
  {
   "cell_type": "markdown",
   "source": [
    "## Угадываем методом дихотомии"
   ],
   "metadata": {}
  },
  {
   "cell_type": "code",
   "execution_count": 3,
   "source": [
    "from game_v4 import score_game\r\n",
    "from game_v4 import random_predict\r\n",
    "\r\n",
    "score_game(random_predict)"
   ],
   "outputs": [
    {
     "output_type": "stream",
     "name": "stdout",
     "text": [
      "Ваш алгоритм угадывает число в среднем за:5 попыток\n"
     ]
    },
    {
     "output_type": "execute_result",
     "data": {
      "text/plain": [
       "5"
      ]
     },
     "metadata": {},
     "execution_count": 3
    }
   ],
   "metadata": {}
  },
  {
   "cell_type": "markdown",
   "source": [
    "## Угадываем случайным образом и с уменьшением диапазона"
   ],
   "metadata": {}
  },
  {
   "cell_type": "code",
   "execution_count": 5,
   "source": [
    "from game_v3 import score_game\r\n",
    "from game_v3 import random_predict\r\n",
    "\r\n",
    "score_game(random_predict)"
   ],
   "outputs": [
    {
     "output_type": "stream",
     "name": "stdout",
     "text": [
      "Ваш алгоритм угадывает число в среднем за:8 попыток\n"
     ]
    },
    {
     "output_type": "execute_result",
     "data": {
      "text/plain": [
       "8"
      ]
     },
     "metadata": {},
     "execution_count": 5
    }
   ],
   "metadata": {}
  }
 ],
 "metadata": {
  "orig_nbformat": 4,
  "language_info": {
   "name": "python",
   "version": "3.8.11",
   "mimetype": "text/x-python",
   "codemirror_mode": {
    "name": "ipython",
    "version": 3
   },
   "pygments_lexer": "ipython3",
   "nbconvert_exporter": "python",
   "file_extension": ".py"
  },
  "kernelspec": {
   "name": "python3",
   "display_name": "Python 3.8.11 64-bit ('sf_py3v8': conda)"
  },
  "interpreter": {
   "hash": "ea7d624c2f5f96609c48d1851941cbd0b3e5b329940975a4ee85f8d9af88658e"
  }
 },
 "nbformat": 4,
 "nbformat_minor": 2
}